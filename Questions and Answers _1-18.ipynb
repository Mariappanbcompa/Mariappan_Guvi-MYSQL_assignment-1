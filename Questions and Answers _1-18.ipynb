{
 "cells": [
  {
   "cell_type": "code",
   "execution_count": 1,
   "id": "bb1aa5ba-51ae-4953-837e-ed881a5c3b7c",
   "metadata": {},
   "outputs": [],
   "source": [
    "import sys\n",
    "sys.path.append(r'C:\\Users\\HP\\Desktop\\Jupiter_Guvi_learning\\PySql_project\\Jobs')"
   ]
  },
  {
   "cell_type": "code",
   "execution_count": 2,
   "id": "b90dc3a2-c3aa-4c91-8e9e-464f152eaa5d",
   "metadata": {},
   "outputs": [
    {
     "name": "stdout",
     "output_type": "stream",
     "text": [
      "Connection established successfully\n"
     ]
    }
   ],
   "source": [
    "import pysql as ps\n",
    "mycursor = ps.mycursor\n",
    "mydb = ps.mydb"
   ]
  },
  {
   "cell_type": "code",
   "execution_count": 3,
   "id": "9fcd8847-9b26-4899-bc39-4eeca65dd819",
   "metadata": {},
   "outputs": [],
   "source": [
    "mycursor.execute(\"USE pysql_db;\")\n",
    "from tabulate import tabulate"
   ]
  },
  {
   "cell_type": "code",
   "execution_count": 4,
   "id": "1a6260fe-d035-4c09-adce-f1ad01e5a421",
   "metadata": {},
   "outputs": [
    {
     "data": {
      "text/plain": [
       "[(1, 'Chicago', 3),\n",
       " (2, 'Chicago', 4),\n",
       " (3, 'New York', 7),\n",
       " (4, 'Los Angeles', 2),\n",
       " (5, 'San Francisco', 8)]"
      ]
     },
     "execution_count": 4,
     "metadata": {},
     "output_type": "execute_result"
    }
   ],
   "source": [
    "#Question 1\n",
    "mycursor.execute(\"SELECT * FROM warehouses;\")\n",
    "mycursor.fetchall()"
   ]
  },
  {
   "cell_type": "code",
   "execution_count": 5,
   "id": "854569ed-f5d1-4522-80cd-cc24441a311d",
   "metadata": {},
   "outputs": [
    {
     "data": {
      "text/plain": [
       "[('0MN7', 'Rocks', 180.0, 3),\n",
       " ('4H8P', 'Rocks', 250.0, 1),\n",
       " ('4RT3', 'Scissors', 190.0, 4),\n",
       " ('7G3H', 'Rocks', 200.0, 1),\n",
       " ('9J6F', 'Papers', 175.0, 2)]"
      ]
     },
     "execution_count": 5,
     "metadata": {},
     "output_type": "execute_result"
    }
   ],
   "source": [
    "#Question 2\n",
    "mycursor.execute(\"SELECT * FROM boxes WHERE value >150;\")\n",
    "mycursor.fetchall()"
   ]
  },
  {
   "cell_type": "code",
   "execution_count": 6,
   "id": "e62daecd-0054-41eb-8b08-059d206aa060",
   "metadata": {},
   "outputs": [
    {
     "data": {
      "text/plain": [
       "[('Rocks',), ('Scissors',), ('Papers',)]"
      ]
     },
     "execution_count": 6,
     "metadata": {},
     "output_type": "execute_result"
    }
   ],
   "source": [
    "#Question 3\n",
    "mycursor.execute(\"SELECT distinct(contents) as contents FROM boxes;\")\n",
    "mycursor.fetchall()"
   ]
  },
  {
   "cell_type": "code",
   "execution_count": 7,
   "id": "2840a633-4243-4674-a561-cbfe36e8dda5",
   "metadata": {},
   "outputs": [
    {
     "data": {
      "text/plain": [
       "[(147.72727272727272,)]"
      ]
     },
     "execution_count": 7,
     "metadata": {},
     "output_type": "execute_result"
    }
   ],
   "source": [
    "#Question 4\n",
    "mycursor.execute(\"SELECT Avg(value) as Avgvalue FROM boxes;\")\n",
    "mycursor.fetchall()"
   ]
  },
  {
   "cell_type": "code",
   "execution_count": 8,
   "id": "6e749e2e-0aaf-402f-bd48-0d8f78af262e",
   "metadata": {},
   "outputs": [
    {
     "name": "stdout",
     "output_type": "stream",
     "text": [
      "+-------------+-----------------+\n",
      "|   Warehouse |   Average_Value |\n",
      "|-------------+-----------------|\n",
      "|           1 |           162.5 |\n",
      "|           2 |           162.5 |\n",
      "|           3 |           115   |\n",
      "|           4 |           165   |\n",
      "|           5 |            90   |\n",
      "+-------------+-----------------+\n"
     ]
    }
   ],
   "source": [
    "#Question 5\n",
    "mycursor.execute(\"\"\"SELECT Warehouse, Avg(value) Average_Value FROM boxes\n",
    "                    GROUP BY Warehouse\"\"\")\n",
    "out = mycursor.fetchall()\n",
    "print(tabulate(out,headers=[x[0] for x in mycursor.description], tablefmt='psql'))"
   ]
  },
  {
   "cell_type": "code",
   "execution_count": 9,
   "id": "df9b7d13-4cb4-49fb-9685-a2392910cb04",
   "metadata": {},
   "outputs": [
    {
     "name": "stdout",
     "output_type": "stream",
     "text": [
      "+-------------+--------------+\n",
      "|   Warehouse |   AVG(value) |\n",
      "|-------------+--------------|\n",
      "|           1 |        162.5 |\n",
      "|           2 |        162.5 |\n",
      "|           4 |        165   |\n",
      "+-------------+--------------+\n"
     ]
    }
   ],
   "source": [
    "#Question 6\n",
    "mycursor.execute(\"\"\"SELECT Warehouse,AVG(value)FROM boxes\n",
    "                    GROUP BY Warehouse\n",
    "                    HAVING AVG(value) > 150;\"\"\")\n",
    "out = mycursor.fetchall()\n",
    "print(tabulate(out,headers=[x[0] for x in mycursor.description], tablefmt='psql'))"
   ]
  },
  {
   "cell_type": "code",
   "execution_count": 10,
   "id": "ad16405f-547a-48b8-a61f-ef5f1662daa4",
   "metadata": {},
   "outputs": [
    {
     "name": "stdout",
     "output_type": "stream",
     "text": [
      "+--------+---------------+\n",
      "| Code   | Location      |\n",
      "|--------+---------------|\n",
      "| 4H8P   | Chicago       |\n",
      "| 7G3H   | Chicago       |\n",
      "| 8JN6   | Chicago       |\n",
      "| P0H6   | Chicago       |\n",
      "| 9J6F   | Chicago       |\n",
      "| P2T6   | Chicago       |\n",
      "| 0MN7   | New York      |\n",
      "| 8Y6U   | New York      |\n",
      "| 4RT3   | Los Angeles   |\n",
      "| LL08   | Los Angeles   |\n",
      "| TU55   | San Francisco |\n",
      "+--------+---------------+\n"
     ]
    }
   ],
   "source": [
    "#Question 7\n",
    "mycursor.execute(\"\"\"SELECT b.Code, w.Location FROM boxes b\n",
    "                    LEFT JOIN warehouses w ON w.Code = b.warehouse;\"\"\")\n",
    "out = mycursor.fetchall()\n",
    "print(tabulate(out,headers=[x[0] for x in mycursor.description], tablefmt='psql'))"
   ]
  },
  {
   "cell_type": "code",
   "execution_count": 11,
   "id": "08e17ac2-7016-422b-8e40-1390240f1cf5",
   "metadata": {},
   "outputs": [
    {
     "name": "stdout",
     "output_type": "stream",
     "text": [
      "+--------+-----------------+\n",
      "|   code |   count(b.code) |\n",
      "|--------+-----------------|\n",
      "|      1 |               4 |\n",
      "|      2 |               2 |\n",
      "|      3 |               2 |\n",
      "|      4 |               2 |\n",
      "|      5 |               1 |\n",
      "+--------+-----------------+\n"
     ]
    }
   ],
   "source": [
    "#Question 8\n",
    "mycursor.execute(\"\"\"SELECT w.code, count(b.code) FROM warehouses w\n",
    "                    LEFT JOIN boxes b ON b.warehouse = w.code\n",
    "                    GROUP BY w.code;\"\"\")\n",
    "out = mycursor.fetchall()\n",
    "print(tabulate(out,headers=[x[0] for x in mycursor.description], tablefmt='psql'))"
   ]
  },
  {
   "cell_type": "code",
   "execution_count": 12,
   "id": "fa31123a-b8f2-4bee-be3c-8f56d25d146b",
   "metadata": {},
   "outputs": [
    {
     "name": "stdout",
     "output_type": "stream",
     "text": [
      "+--------+------+\n",
      "|   code |   ct |\n",
      "|--------+------|\n",
      "|      1 |    4 |\n",
      "|      2 |    2 |\n",
      "|      3 |    2 |\n",
      "|      4 |    2 |\n",
      "|      5 |    1 |\n",
      "+--------+------+\n"
     ]
    }
   ],
   "source": [
    "#Question 9\n",
    "mycursor.execute(\"\"\"SELECT w.code, count(b.code) ct FROM warehouses w\n",
    "                    LEFT JOIN boxes b ON b.warehouse = w.code\n",
    "                    GROUP BY w.code\n",
    "                    HAVING ct >-1;\"\"\")\n",
    "out = mycursor.fetchall()\n",
    "print(tabulate(out,headers=[x[0] for x in mycursor.description], tablefmt='psql'))"
   ]
  },
  {
   "cell_type": "code",
   "execution_count": 13,
   "id": "d393321a-6c07-482b-9b09-bd4dfe51280d",
   "metadata": {
    "tags": []
   },
   "outputs": [
    {
     "name": "stdout",
     "output_type": "stream",
     "text": [
      "+--------+\n",
      "|   code |\n",
      "|--------|\n",
      "|      1 |\n",
      "+--------+\n"
     ]
    }
   ],
   "source": [
    "#Question 10\n",
    "mycursor.execute(\"\"\"SELECT w.code FROM warehouses w\n",
    "                    LEFT JOIN boxes b ON b.warehouse = w.code\n",
    "                    GROUP BY w.code, w.Capacity\n",
    "                    HAVING count(b.Contents) >  w.Capacity;\"\"\")\n",
    "out = mycursor.fetchall()\n",
    "print(tabulate(out,headers=[x[0] for x in mycursor.description], tablefmt='psql'))"
   ]
  },
  {
   "cell_type": "code",
   "execution_count": 14,
   "id": "46f0d6b4-a4e2-4f65-97fb-aff8556b69e2",
   "metadata": {
    "tags": []
   },
   "outputs": [
    {
     "name": "stdout",
     "output_type": "stream",
     "text": [
      "+--------+\n",
      "|   code |\n",
      "|--------|\n",
      "|      1 |\n",
      "|      2 |\n",
      "+--------+\n"
     ]
    }
   ],
   "source": [
    "#Question 11\n",
    "mycursor.execute(\"\"\"SELECT code FROM warehouses\n",
    "                    WHERE Location =\"Chicago\" ;\"\"\")\n",
    "out = mycursor.fetchall()\n",
    "print(tabulate(out,headers=[x[0] for x in mycursor.description], tablefmt='psql'))"
   ]
  },
  {
   "cell_type": "code",
   "execution_count": 15,
   "id": "d1bf0d70-1836-4dff-a649-4c7ea8ec00ac",
   "metadata": {
    "tags": []
   },
   "outputs": [],
   "source": [
    "#Question 12\n",
    "mycursor.execute(\"\"\"INSERT INTO warehouses (code, Location, Capacity)\n",
    "                    VALUES (7,'New York', 3);\"\"\")\n",
    "mydb.commit()"
   ]
  },
  {
   "cell_type": "code",
   "execution_count": 16,
   "id": "c3f4107a-d665-4e5a-910a-4bdd99db26e9",
   "metadata": {
    "tags": []
   },
   "outputs": [],
   "source": [
    "#Question 13\n",
    "mycursor.execute(\"\"\"INSERT INTO boxes(code,contents,value,warehouse)\n",
    "                    VALUES('H5RT','Papers',200,2);\"\"\")\n",
    "mydb.commit()"
   ]
  },
  {
   "cell_type": "code",
   "execution_count": 17,
   "id": "2bad1f76-1acf-47aa-b033-e7a01c23eaee",
   "metadata": {
    "tags": []
   },
   "outputs": [],
   "source": [
    "#Question 14\n",
    "mycursor.execute(\"\"\"DELETE FROM boxes\n",
    "                    WHERE value < 100;\"\"\")\n",
    "mydb.commit()"
   ]
  },
  {
   "cell_type": "code",
   "execution_count": 18,
   "id": "3a961711-a35a-44f9-b325-8acaf93e32fd",
   "metadata": {},
   "outputs": [],
   "source": [
    "#Question 15\n",
    "mycursor.execute(\"\"\"DELETE from warehouses\n",
    "                    WHERE code in (SELECT w.Code\n",
    "                    FROM warehouses w\n",
    "                    JOIN boxes b ON w.Code = b.warehouse\n",
    "                    GROUP BY w.Code,w.Capacity\n",
    "                    HAVING COUNT(b.code) > w.Capacity)\"\"\")\n",
    "mydb.commit()"
   ]
  },
  {
   "cell_type": "code",
   "execution_count": 22,
   "id": "a5c7b77f-7475-46ab-acfa-a6f0bc05d755",
   "metadata": {
    "tags": []
   },
   "outputs": [],
   "source": [
    "#Question 16\n",
    "mycursor.execute('CREATE INDEX idx_warehouse ON boxes (Warehouse);')\n",
    "mydb.commit()"
   ]
  },
  {
   "cell_type": "code",
   "execution_count": 23,
   "id": "8ec99477-c180-425e-bfd5-52e74d7c7df5",
   "metadata": {},
   "outputs": [
    {
     "name": "stdout",
     "output_type": "stream",
     "text": [
      "+---------+--------------+---------------+----------------+---------------+-------------+---------------+------------+----------+--------+--------------+-----------+-----------------+\n",
      "| Table   |   Non_unique | Key_name      |   Seq_in_index | Column_name   | Collation   |   Cardinality | Sub_part   | Packed   | Null   | Index_type   | Comment   | Index_comment   |\n",
      "|---------+--------------+---------------+----------------+---------------+-------------+---------------+------------+----------+--------+--------------+-----------+-----------------|\n",
      "| boxes   |            0 | PRIMARY       |              1 | Code          | A           |             9 |            |          |        | BTREE        |           |                 |\n",
      "| boxes   |            1 | idx_warehouse |              1 | Warehouse     | A           |             9 |            |          |        | BTREE        |           |                 |\n",
      "+---------+--------------+---------------+----------------+---------------+-------------+---------------+------------+----------+--------+--------------+-----------+-----------------+\n"
     ]
    }
   ],
   "source": [
    "#Question 17\n",
    "mycursor.execute('SHOW INDEXES FROM boxes;')\n",
    "out = mycursor.fetchall()\n",
    "print(tabulate(out,headers=[x[0] for x in mycursor.description], tablefmt='psql'))"
   ]
  },
  {
   "cell_type": "code",
   "execution_count": 24,
   "id": "203bf4e1-d621-460c-9810-b8afda2a8387",
   "metadata": {},
   "outputs": [],
   "source": [
    "#Question 18\n",
    "mycursor.execute(\"\"\"ALTER TABLE boxes DROP INDEX idx_warehouse;\"\"\")"
   ]
  }
 ],
 "metadata": {
  "kernelspec": {
   "display_name": "Python 3 (ipykernel)",
   "language": "python",
   "name": "python3"
  },
  "language_info": {
   "codemirror_mode": {
    "name": "ipython",
    "version": 3
   },
   "file_extension": ".py",
   "mimetype": "text/x-python",
   "name": "python",
   "nbconvert_exporter": "python",
   "pygments_lexer": "ipython3",
   "version": "3.9.13"
  }
 },
 "nbformat": 4,
 "nbformat_minor": 5
}
